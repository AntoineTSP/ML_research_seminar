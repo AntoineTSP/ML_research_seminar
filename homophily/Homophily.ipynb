{
 "cells": [
  {
   "cell_type": "code",
   "execution_count": 1,
   "id": "f0d14992-70e2-4d0d-a72f-c00e70203e05",
   "metadata": {},
   "outputs": [
    {
     "name": "stderr",
     "output_type": "stream",
     "text": [
      "D:\\anaconda3\\lib\\site-packages\\scipy\\__init__.py:146: UserWarning: A NumPy version >=1.16.5 and <1.23.0 is required for this version of SciPy (detected version 1.26.3\n",
      "  warnings.warn(f\"A NumPy version >={np_minversion} and <{np_maxversion}\"\n",
      "D:\\anaconda3\\lib\\site-packages\\torch_geometric\\typing.py:71: UserWarning: An issue occurred while importing 'torch-scatter'. Disabling its usage. Stacktrace: [WinError 127] La procédure spécifiée est introuvable\n",
      "  warnings.warn(f\"An issue occurred while importing 'torch-scatter'. \"\n",
      "D:\\anaconda3\\lib\\site-packages\\torch_geometric\\typing.py:109: UserWarning: An issue occurred while importing 'torch-sparse'. Disabling its usage. Stacktrace: [WinError 127] La procédure spécifiée est introuvable\n",
      "  warnings.warn(f\"An issue occurred while importing 'torch-sparse'. \"\n",
      "D:\\anaconda3\\lib\\site-packages\\pandas\\core\\computation\\expressions.py:21: UserWarning: Pandas requires version '2.8.4' or newer of 'numexpr' (version '2.7.3' currently installed).\n",
      "  from pandas.core.computation.check import NUMEXPR_INSTALLED\n",
      "D:\\anaconda3\\lib\\site-packages\\pandas\\core\\arrays\\masked.py:60: UserWarning: Pandas requires version '1.3.6' or newer of 'bottleneck' (version '1.3.2' currently installed).\n",
      "  from pandas.core import (\n"
     ]
    },
    {
     "name": "stdout",
     "output_type": "stream",
     "text": [
      "2.2.0+cpu\n"
     ]
    }
   ],
   "source": [
    "# Install required packages.\n",
    "import os\n",
    "import torch\n",
    "import numpy as np\n",
    "from scipy import stats\n",
    "import networkx as nx\n",
    "import torch_geometric\n",
    "from torch_geometric.datasets import TUDataset\n",
    "from torch_geometric.utils import homophily\n",
    "import csv\n",
    "os.environ['TORCH'] = torch.__version__\n",
    "print(torch.__version__)"
   ]
  },
  {
   "cell_type": "code",
   "execution_count": 2,
   "id": "61863c7d-688a-485b-bf7a-e6d196d6ab83",
   "metadata": {},
   "outputs": [
    {
     "name": "stdout",
     "output_type": "stream",
     "text": [
      "Number of training graphs: 150\n",
      "Number of test graphs: 38\n"
     ]
    }
   ],
   "source": [
    "from torch_geometric.datasets import TUDataset\n",
    "\n",
    "dataset = TUDataset(root='data/TUDataset', name='MUTAG')\n",
    "\n",
    "torch.manual_seed(12345)\n",
    "dataset = dataset.shuffle()\n",
    "\n",
    "train_dataset = dataset[:150]\n",
    "test_dataset = dataset[150:]\n",
    "\n",
    "print(f'Number of training graphs: {len(train_dataset)}')\n",
    "print(f'Number of test graphs: {len(test_dataset)}')"
   ]
  },
  {
   "cell_type": "code",
   "execution_count": 3,
   "id": "a07d2d2d-00e5-416c-8df3-0ff9e80d5da7",
   "metadata": {},
   "outputs": [
    {
     "data": {
      "image/png": "[encoded data removed]",
      "text/plain": [
       "<Figure size 432x288 with 1 Axes>"
      ]
     },
     "metadata": {},
     "output_type": "display_data"
    }
   ],
   "source": [
    "import networkx as nx\n",
    "import torch_geometric\n",
    "graph = train_dataset[0]\n",
    "g = torch_geometric.utils.to_networkx(graph, to_undirected=True)\n",
    "nx.draw_networkx(g)"
   ]
  },
  {
   "cell_type": "code",
   "execution_count": 4,
   "id": "3ebb849b-ad4f-4073-8924-102339450caf",
   "metadata": {},
   "outputs": [
    {
     "data": {
      "text/plain": [
       "tensor([[1., 0., 0., 0., 0., 0., 0.],\n",
       "        [1., 0., 0., 0., 0., 0., 0.],\n",
       "        [1., 0., 0., 0., 0., 0., 0.],\n",
       "        [1., 0., 0., 0., 0., 0., 0.],\n",
       "        [1., 0., 0., 0., 0., 0., 0.],\n",
       "        [1., 0., 0., 0., 0., 0., 0.],\n",
       "        [1., 0., 0., 0., 0., 0., 0.],\n",
       "        [1., 0., 0., 0., 0., 0., 0.],\n",
       "        [1., 0., 0., 0., 0., 0., 0.],\n",
       "        [1., 0., 0., 0., 0., 0., 0.],\n",
       "        [1., 0., 0., 0., 0., 0., 0.],\n",
       "        [1., 0., 0., 0., 0., 0., 0.],\n",
       "        [1., 0., 0., 0., 0., 0., 0.],\n",
       "        [1., 0., 0., 0., 0., 0., 0.],\n",
       "        [0., 1., 0., 0., 0., 0., 0.],\n",
       "        [0., 0., 1., 0., 0., 0., 0.],\n",
       "        [0., 0., 1., 0., 0., 0., 0.]])"
      ]
     },
     "execution_count": 4,
     "metadata": {},
     "output_type": "execute_result"
    }
   ],
   "source": [
    "graph.x"
   ]
  },
  {
   "cell_type": "code",
   "execution_count": 5,
   "id": "f5f29df8-e53c-46ad-a326-f092cdbfea96",
   "metadata": {},
   "outputs": [
    {
     "data": {
      "text/plain": [
       "tensor([0, 0, 0, 0, 0, 0, 0, 0, 0, 0, 0, 0, 0, 0, 1, 2, 2])"
      ]
     },
     "execution_count": 5,
     "metadata": {},
     "output_type": "execute_result"
    }
   ],
   "source": [
    "torch.argmax(graph.x, dim=1)"
   ]
  },
  {
   "cell_type": "code",
   "execution_count": 6,
   "id": "e2134148-eb51-41a8-8c6a-7855bbb8139d",
   "metadata": {},
   "outputs": [
    {
     "data": {
      "text/plain": [
       "0.8421052694320679"
      ]
     },
     "execution_count": 6,
     "metadata": {},
     "output_type": "execute_result"
    }
   ],
   "source": [
    "homophily(graph.edge_index, torch.argmax(graph.x, dim=1), method='edge')"
   ]
  },
  {
   "cell_type": "code",
   "execution_count": 7,
   "id": "ea159a68-9b6d-4cd6-ac31-e932606393a9",
   "metadata": {},
   "outputs": [
    {
     "data": {
      "text/plain": [
       "0.8039215803146362"
      ]
     },
     "execution_count": 7,
     "metadata": {},
     "output_type": "execute_result"
    }
   ],
   "source": [
    "homophily(graph.edge_index, torch.argmax(graph.x, dim=1), method='node')"
   ]
  },
  {
   "cell_type": "code",
   "execution_count": 8,
   "id": "6c020b8a-a3ea-402f-8680-422fdedfbc3a",
   "metadata": {},
   "outputs": [
    {
     "data": {
      "text/plain": [
       "torch.Size([2714, 7])"
      ]
     },
     "execution_count": 8,
     "metadata": {},
     "output_type": "execute_result"
    }
   ],
   "source": [
    "train_dataset.x.shape"
   ]
  },
  {
   "cell_type": "code",
   "execution_count": 9,
   "id": "35b66e19-73bb-4061-b23b-3ec7547ee8e4",
   "metadata": {},
   "outputs": [
    {
     "data": {
      "text/plain": [
       "torch.Size([2714])"
      ]
     },
     "execution_count": 9,
     "metadata": {},
     "output_type": "execute_result"
    }
   ],
   "source": [
    "torch.argmax(train_dataset.x, dim=1).shape"
   ]
  },
  {
   "cell_type": "code",
   "execution_count": 10,
   "id": "5de3e2f6-e7af-4d35-bab6-f37f424fb5ca",
   "metadata": {},
   "outputs": [
    {
     "data": {
      "text/plain": [
       "0.7203870415687561"
      ]
     },
     "execution_count": 10,
     "metadata": {},
     "output_type": "execute_result"
    }
   ],
   "source": [
    "homophily(train_dataset.edge_index, torch.argmax(train_dataset.x, dim=1), method='edge')"
   ]
  },
  {
   "cell_type": "code",
   "execution_count": 11,
   "id": "e3c15faf-f891-4b25-9533-ff5c9b9177d0",
   "metadata": {},
   "outputs": [
    {
     "data": {
      "text/plain": [
       "0.6603721976280212"
      ]
     },
     "execution_count": 11,
     "metadata": {},
     "output_type": "execute_result"
    }
   ],
   "source": [
    "homophily(train_dataset.edge_index, torch.argmax(train_dataset.x, dim=1), method='node')"
   ]
  },
  {
   "cell_type": "code",
   "execution_count": 12,
   "id": "180e5ecc-6921-434f-b5f9-c35ae65317dc",
   "metadata": {},
   "outputs": [
    {
     "data": {
      "text/plain": [
       "0.03396705910563469"
      ]
     },
     "execution_count": 12,
     "metadata": {},
     "output_type": "execute_result"
    }
   ],
   "source": [
    "homophily(train_dataset.edge_index, torch.argmax(train_dataset.x, dim=1), method='edge_insensitive')"
   ]
  },
  {
   "cell_type": "code",
   "execution_count": 13,
   "id": "133e58fe-e428-44f2-a965-435864beb860",
   "metadata": {},
   "outputs": [],
   "source": [
    "def get_homophily(location, name_location,name_dataset,seed_id=12345):\n",
    "    # Name of the CSV file\n",
    "    csv_file = \"homophily_data.csv\"\n",
    "    \n",
    "    # Check if the file exists\n",
    "    file_exists = os.path.exists(csv_file)\n",
    "    \n",
    "    # Open CSV file in append mode if it exists, otherwise in write mode\n",
    "    mode = 'a' if file_exists else 'w'\n",
    "    \n",
    "    dataset = location(root='data/' + str(name_location), name=name_dataset)\n",
    "\n",
    "    torch.manual_seed(seed_id)\n",
    "    dataset = dataset.shuffle()\n",
    "    length_train_dataset = int(np.ceil(0.8*len(dataset)))\n",
    "\n",
    "    train_dataset = dataset[:length_train_dataset]\n",
    "    test_dataset = dataset[length_train_dataset:]\n",
    "    \n",
    "    homophily_edge_train = round(homophily(train_dataset.edge_index, torch.argmax(train_dataset.x, dim=1), method='edge'),3)\n",
    "    homophily_node_train = round(homophily(train_dataset.edge_index, torch.argmax(train_dataset.x, dim=1), method='node'),3)\n",
    "    homophily_edge_insensitive_train = round(homophily(train_dataset.edge_index, torch.argmax(train_dataset.x, dim=1), method='edge_insensitive'),3)\n",
    "    \n",
    "    homophily_edge_test = round(homophily(test_dataset.edge_index, torch.argmax(test_dataset.x, dim=1), method='edge'),3)\n",
    "    homophily_node_test = round(homophily(test_dataset.edge_index, torch.argmax(test_dataset.x, dim=1), method='node'),3)\n",
    "    homophily_edge_insensitive_test = round(homophily(test_dataset.edge_index, torch.argmax(test_dataset.x, dim=1), method='edge_insensitive'),3)\n",
    "    \n",
    "    line_csv = [\n",
    "    {\"Name_Dataset\": name_dataset, \"Seed\": seed_id,\n",
    "     \"Homophily_edge_train\": homophily_edge_train, \"Homophily_edge_test\": homophily_edge_test,\n",
    "     \"Homophily_node_train\": homophily_node_train, \"Homophily_node_test\": homophily_node_test,\n",
    "     \"Homophily_edge_insensitive_train\": homophily_edge_insensitive_train, \"Homophily_edge_insensitive_test\": homophily_edge_insensitive_test}\n",
    "        ]\n",
    "    \n",
    "    # Writing to CSV file\n",
    "    with open(csv_file, mode, newline='') as file:\n",
    "        # Define column names\n",
    "        fieldnames = [\"Name_Dataset\", \"Seed\",\n",
    "                      \"Homophily_edge_train\", \"Homophily_edge_test\",\n",
    "                      \"Homophily_node_train\", \"Homophily_node_test\",\n",
    "                      \"Homophily_edge_insensitive_train\", \"Homophily_edge_insensitive_test\"]\n",
    "        writer = csv.DictWriter(file, fieldnames=fieldnames)\n",
    "\n",
    "        # Write header only if file is created newly\n",
    "        if not file_exists or os.path.getsize(csv_file) == 0:\n",
    "            writer.writeheader()\n",
    "\n",
    "\n",
    "        # Write data rows\n",
    "        for row in line_csv:\n",
    "            writer.writerow(row)\n",
    "\n",
    "    print(\"Name of the dataset: \" + name_dataset)\n",
    "    print(f'Number of training graphs: {len(train_dataset)}')\n",
    "    print(f'Number of test graphs: {len(test_dataset)}')\n",
    "    print(\"Homophily with the edge formula (train/test): \" + str(homophily_edge_train) + \" | \" + str(homophily_edge_test))\n",
    "    print(\"Homophily with the node formula (train/test): \" + str(homophily_node_train) + \" | \" + str(homophily_node_test))\n",
    "    print(\"Homophily with the edge_insensitive formula (train/test): \" + str(homophily_edge_insensitive_train) + \" | \" + str(homophily_edge_insensitive_test))\n",
    "    print(\"CSV file created successfully:\", csv_file)"
   ]
  },
  {
   "cell_type": "code",
   "execution_count": 14,
   "id": "e811217f-bcf2-4ba3-8b2d-2fef28d8c234",
   "metadata": {},
   "outputs": [
    {
     "name": "stdout",
     "output_type": "stream",
     "text": [
      "Name of the dataset: Mutag\n",
      "Number of training graphs: 151\n",
      "Number of test graphs: 37\n",
      "Homophily with the edge formula (train/test): 0.721 | 0.722\n",
      "Homophily with the node formula (train/test): 0.661 | 0.662\n",
      "Homophily with the edge_insensitive formula (train/test): 0.034 | 0.035\n",
      "CSV file created successfully: homophily_data.csv\n"
     ]
    }
   ],
   "source": [
    "get_homophily(TUDataset, 'TUDataset' , 'Mutag')"
   ]
  },
  {
   "cell_type": "code",
   "execution_count": 15,
   "id": "f7702377-57b1-4005-9483-269d7b62e7db",
   "metadata": {},
   "outputs": [
    {
     "name": "stdout",
     "output_type": "stream",
     "text": [
      "Name of the dataset: ENZYMES\n",
      "Number of training graphs: 480\n",
      "Number of test graphs: 120\n",
      "Homophily with the edge formula (train/test): 0.667 | 0.66\n",
      "Homophily with the node formula (train/test): 0.665 | 0.664\n",
      "Homophily with the edge_insensitive formula (train/test): 0.37 | 0.399\n",
      "CSV file created successfully: homophily_data.csv\n"
     ]
    }
   ],
   "source": [
    "get_homophily(TUDataset, 'TUDataset' , 'ENZYMES')"
   ]
  },
  {
   "cell_type": "code",
   "execution_count": 16,
   "id": "a3ad7255-b090-461c-807a-893d8a0dadf8",
   "metadata": {},
   "outputs": [
    {
     "name": "stdout",
     "output_type": "stream",
     "text": [
      "Name of the dataset: PROTEINS\n",
      "Number of training graphs: 891\n",
      "Number of test graphs: 222\n",
      "Homophily with the edge formula (train/test): 0.657 | 0.654\n",
      "Homophily with the node formula (train/test): 0.652 | 0.648\n",
      "Homophily with the edge_insensitive formula (train/test): 0.372 | 0.367\n",
      "CSV file created successfully: homophily_data.csv\n"
     ]
    }
   ],
   "source": [
    "get_homophily(TUDataset, 'TUDataset' , 'PROTEINS')"
   ]
  },
  {
   "cell_type": "code",
   "execution_count": 17,
   "id": "cb78246d-0283-4013-83db-2f674bfcddba",
   "metadata": {},
   "outputs": [],
   "source": [
    "from torch_geometric.datasets import GNNBenchmarkDataset"
   ]
  },
  {
   "cell_type": "code",
   "execution_count": 18,
   "id": "bb716f63-c9fc-43e9-9c76-9a855e2ac217",
   "metadata": {},
   "outputs": [
    {
     "name": "stdout",
     "output_type": "stream",
     "text": [
      "Name of the dataset: PATTERN\n",
      "Number of training graphs: 8000\n",
      "Number of test graphs: 2000\n",
      "Homophily with the edge formula (train/test): 0.333 | 0.333\n",
      "Homophily with the node formula (train/test): 0.333 | 0.333\n",
      "Homophily with the edge_insensitive formula (train/test): 0.0 | 0.0\n",
      "CSV file created successfully: homophily_data.csv\n"
     ]
    }
   ],
   "source": [
    "get_homophily(GNNBenchmarkDataset, 'GNNBenchmarkDataset' , 'PATTERN')"
   ]
  },
  {
   "cell_type": "code",
   "execution_count": 19,
   "id": "fd5ecabb-f5ca-4c43-95b1-db1ab8395de0",
   "metadata": {},
   "outputs": [
    {
     "name": "stdout",
     "output_type": "stream",
     "text": [
      "Name of the dataset: CLUSTER\n",
      "Number of training graphs: 8000\n",
      "Number of test graphs: 2000\n",
      "Homophily with the edge formula (train/test): 0.905 | 0.905\n",
      "Homophily with the node formula (train/test): 0.901 | 0.901\n",
      "Homophily with the edge_insensitive formula (train/test): 0.009 | 0.0\n",
      "CSV file created successfully: homophily_data.csv\n"
     ]
    }
   ],
   "source": [
    "get_homophily(GNNBenchmarkDataset, 'GNNBenchmarkDataset' , 'CLUSTER')"
   ]
  },
  {
   "cell_type": "code",
   "execution_count": 20,
   "id": "dddde75e-6a24-4775-92a7-e66c50863719",
   "metadata": {},
   "outputs": [],
   "source": [
    "#Features continues\n",
    "#get_homophily(GNNBenchmarkDataset, 'GNNBenchmarkDataset' , 'MNIST')"
   ]
  },
  {
   "cell_type": "code",
   "execution_count": 21,
   "id": "4391b5d1-3f9c-4dd6-9d27-617bda240719",
   "metadata": {},
   "outputs": [
    {
     "name": "stdout",
     "output_type": "stream",
     "text": [
      "Name of the dataset: CIFAR10\n",
      "Number of training graphs: 36000\n",
      "Number of test graphs: 9000\n",
      "Homophily with the edge formula (train/test): 0.779 | 0.777\n",
      "Homophily with the node formula (train/test): 0.781 | 0.779\n",
      "Homophily with the edge_insensitive formula (train/test): 0.646 | 0.635\n",
      "CSV file created successfully: homophily_data.csv\n"
     ]
    }
   ],
   "source": [
    "get_homophily(GNNBenchmarkDataset, 'GNNBenchmarkDataset' , 'CIFAR10')"
   ]
  },
  {
   "cell_type": "code",
   "execution_count": 22,
   "id": "5f68436a-4f5e-46b3-81c9-bf2d847e29e8",
   "metadata": {},
   "outputs": [],
   "source": [
    "#Features continues\n",
    "#get_homophily(GNNBenchmarkDataset, 'GNNBenchmarkDataset' , 'TSP')"
   ]
  },
  {
   "cell_type": "code",
   "execution_count": 23,
   "id": "14868381-46ca-47f6-9497-e46fd039e36c",
   "metadata": {},
   "outputs": [],
   "source": [
    "#No features\n",
    "#get_homophily(GNNBenchmarkDataset, 'GNNBenchmarkDataset' , 'CSL')"
   ]
  },
  {
   "cell_type": "code",
   "execution_count": null,
   "id": "b8935e85-e1d6-40d7-b2e9-7a03d75ffb86",
   "metadata": {},
   "outputs": [],
   "source": []
  }
 ],
 "metadata": {
  "kernelspec": {
   "display_name": "Python 3 (ipykernel)",
   "language": "python",
   "name": "python3"
  },
  "language_info": {
   "codemirror_mode": {
    "name": "ipython",
    "version": 3
   },
   "file_extension": ".py",
   "mimetype": "text/x-python",
   "name": "python",
   "nbconvert_exporter": "python",
   "pygments_lexer": "ipython3",
   "version": "3.9.7"
  }
 },
 "nbformat": 4,
 "nbformat_minor": 5
}
