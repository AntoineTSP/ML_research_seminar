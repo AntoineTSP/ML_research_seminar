{
 "cells": [
  {
   "cell_type": "markdown",
   "id": "7c0e3dc2-d9fa-432b-8d1c-1b03a971169e",
   "metadata": {},
   "source": [
    " ## Preprocessing"
   ]
  },
  {
   "cell_type": "code",
   "execution_count": 1,
   "id": "bcc827bf-2dd2-4d4f-a5d4-3c73339f66c8",
   "metadata": {},
   "outputs": [
    {
     "name": "stderr",
     "output_type": "stream",
     "text": [
      "D:\\anaconda3\\lib\\site-packages\\scipy\\__init__.py:146: UserWarning: A NumPy version >=1.16.5 and <1.23.0 is required for this version of SciPy (detected version 1.26.3\n",
      "  warnings.warn(f\"A NumPy version >={np_minversion} and <{np_maxversion}\"\n"
     ]
    },
    {
     "name": "stdout",
     "output_type": "stream",
     "text": [
      "1.13.1+cpu\n"
     ]
    },
    {
     "name": "stderr",
     "output_type": "stream",
     "text": [
      "WARNING: Ignoring invalid distribution -illow (d:\\anaconda3\\lib\\site-packages)\n",
      "WARNING: Ignoring invalid distribution -umpy (d:\\anaconda3\\lib\\site-packages)\n",
      "WARNING: Ignoring invalid distribution -illow (d:\\anaconda3\\lib\\site-packages)\n",
      "WARNING: Ignoring invalid distribution -umpy (d:\\anaconda3\\lib\\site-packages)\n",
      "WARNING: Ignoring invalid distribution -illow (d:\\anaconda3\\lib\\site-packages)\n",
      "WARNING: Ignoring invalid distribution -umpy (d:\\anaconda3\\lib\\site-packages)\n",
      "WARNING: Ignoring invalid distribution -illow (d:\\anaconda3\\lib\\site-packages)\n",
      "WARNING: Ignoring invalid distribution -umpy (d:\\anaconda3\\lib\\site-packages)\n",
      "WARNING: Ignoring invalid distribution -illow (d:\\anaconda3\\lib\\site-packages)\n",
      "WARNING: Ignoring invalid distribution -umpy (d:\\anaconda3\\lib\\site-packages)\n",
      "WARNING: Ignoring invalid distribution -illow (d:\\anaconda3\\lib\\site-packages)\n",
      "WARNING: Ignoring invalid distribution -umpy (d:\\anaconda3\\lib\\site-packages)\n"
     ]
    }
   ],
   "source": [
    "# Install required packages.\n",
    "import os\n",
    "import torch\n",
    "import numpy as np\n",
    "from scipy import stats\n",
    "os.environ['TORCH'] = torch.__version__\n",
    "print(torch.__version__)\n",
    "\n",
    "!pip install -q torch-scatter -f https://data.pyg.org/whl/torch-${TORCH}.html\n",
    "!pip install -q torch-sparse -f https://data.pyg.org/whl/torch-${TORCH}.html\n",
    "!pip install -q git+https://github.com/pyg-team/pytorch_geometric.git"
   ]
  },
  {
   "cell_type": "code",
   "execution_count": 2,
   "id": "0df50310-0003-4a57-a162-14b0d72483b9",
   "metadata": {},
   "outputs": [
    {
     "name": "stdout",
     "output_type": "stream",
     "text": [
      "\n",
      "Dataset: MUTAG(188):\n",
      "====================\n",
      "Number of graphs: 188\n",
      "Number of features: 7\n",
      "Number of classes: 2\n",
      "\n",
      "Data(edge_index=[2, 38], x=[17, 7], edge_attr=[38, 4], y=[1])\n",
      "=============================================================\n",
      "Number of nodes: 17\n",
      "Number of edges: 38\n",
      "Average node degree: 2.24\n",
      "Has isolated nodes: False\n",
      "Has self-loops: False\n",
      "Is undirected: True\n"
     ]
    }
   ],
   "source": [
    "from torch_geometric.datasets import TUDataset\n",
    "\n",
    "dataset = TUDataset(root='data/TUDataset', name='MUTAG')\n",
    "\n",
    "print()\n",
    "print(f'Dataset: {dataset}:')\n",
    "print('====================')\n",
    "print(f'Number of graphs: {len(dataset)}')\n",
    "print(f'Number of features: {dataset.num_features}')\n",
    "print(f'Number of classes: {dataset.num_classes}')\n",
    "\n",
    "data = dataset[0]  # Get the first graph object.\n",
    "\n",
    "print()\n",
    "print(data)\n",
    "print('=============================================================')\n",
    "\n",
    "# Gather some statistics about the first graph.\n",
    "print(f'Number of nodes: {data.num_nodes}')\n",
    "print(f'Number of edges: {data.num_edges}')\n",
    "print(f'Average node degree: {data.num_edges / data.num_nodes:.2f}')\n",
    "print(f'Has isolated nodes: {data.has_isolated_nodes()}')\n",
    "print(f'Has self-loops: {data.has_self_loops()}')\n",
    "print(f'Is undirected: {data.is_undirected()}')"
   ]
  },
  {
   "cell_type": "code",
   "execution_count": 3,
   "id": "4584981d-d5ba-4492-930f-0bc2fee77cf9",
   "metadata": {},
   "outputs": [
    {
     "name": "stdout",
     "output_type": "stream",
     "text": [
      "Number of training graphs: 150\n",
      "Number of test graphs: 38\n"
     ]
    }
   ],
   "source": [
    "torch.manual_seed(12345)\n",
    "dataset = dataset.shuffle()\n",
    "\n",
    "train_dataset = dataset[:150]\n",
    "test_dataset = dataset[150:]\n",
    "\n",
    "print(f'Number of training graphs: {len(train_dataset)}')\n",
    "print(f'Number of test graphs: {len(test_dataset)}')"
   ]
  },
  {
   "cell_type": "code",
   "execution_count": 4,
   "id": "6a1d1802-48d3-4339-b299-672bcc3f9856",
   "metadata": {},
   "outputs": [
    {
     "data": {
      "image/png": "[encoded data removed]",
      "text/plain": [
       "<Figure size 432x288 with 1 Axes>"
      ]
     },
     "metadata": {},
     "output_type": "display_data"
    }
   ],
   "source": [
    "import networkx as nx\n",
    "import torch_geometric\n",
    "g = torch_geometric.utils.to_networkx(train_dataset[0], to_undirected=True)\n",
    "nx.draw_networkx(g)"
   ]
  },
  {
   "cell_type": "code",
   "execution_count": 9,
   "id": "19f6ba7b-5851-4162-be63-e84fbbd155cb",
   "metadata": {},
   "outputs": [
    {
     "name": "stdout",
     "output_type": "stream",
     "text": [
      "Step 1:\n",
      "=======\n",
      "Number of graphs in the current batch: 64\n",
      "DataBatch(edge_index=[2, 2560], x=[1154, 7], edge_attr=[2560, 4], y=[64], batch=[1154], ptr=[65])\n",
      "\n",
      "Step 2:\n",
      "=======\n",
      "Number of graphs in the current batch: 64\n",
      "DataBatch(edge_index=[2, 2454], x=[1121, 7], edge_attr=[2454, 4], y=[64], batch=[1121], ptr=[65])\n",
      "\n",
      "Step 3:\n",
      "=======\n",
      "Number of graphs in the current batch: 22\n",
      "DataBatch(edge_index=[2, 980], x=[439, 7], edge_attr=[980, 4], y=[22], batch=[439], ptr=[23])\n",
      "\n"
     ]
    }
   ],
   "source": [
    "from torch_geometric.loader import DataLoader\n",
    "\n",
    "train_loader = DataLoader(train_dataset, batch_size=64, shuffle=True)\n",
    "test_loader = DataLoader(test_dataset, batch_size=64, shuffle=False)\n",
    "\n",
    "for step, data in enumerate(train_loader):\n",
    "    print(f'Step {step + 1}:')\n",
    "    print('=======')\n",
    "    print(f'Number of graphs in the current batch: {data.num_graphs}')\n",
    "    print(data)\n",
    "    print()"
   ]
  },
  {
   "cell_type": "markdown",
   "id": "b70b9389-5de6-439b-8e29-2c96a1ae8788",
   "metadata": {},
   "source": [
    "## Defining functions"
   ]
  },
  {
   "cell_type": "code",
   "execution_count": 16,
   "id": "7a40fe27-4b01-4e93-905e-60fc0f1a6f36",
   "metadata": {},
   "outputs": [],
   "source": [
    "from torch.nn import Linear\n",
    "import torch.nn.functional as F\n",
    "from torch_geometric.nn import GCNConv, GATConv, GatedGraphConv\n",
    "from torch_geometric.nn import global_mean_pool, global_max_pool, SAGPooling\n",
    "\n",
    "\n",
    "class GCN(torch.nn.Module):\n",
    "    def __init__(self, hidden_channels, Conv_method , Pool_method):\n",
    "        super(GCN, self).__init__()\n",
    "        torch.manual_seed(12345)\n",
    "        self.conv1 = Conv_method(dataset.num_node_features, hidden_channels)\n",
    "        self.conv2 = Conv_method(hidden_channels, hidden_channels)\n",
    "        self.conv3 = Conv_method(hidden_channels, hidden_channels)\n",
    "        self.lin = Linear(hidden_channels, dataset.num_classes)\n",
    "        self.pool = Pool_method\n",
    "\n",
    "    def forward(self, x, edge_index, batch):\n",
    "        # 1. Obtain node embeddings\n",
    "        x = self.conv1(x, edge_index)\n",
    "        x = x.relu()\n",
    "        x = self.conv2(x, edge_index)\n",
    "        x = x.relu()\n",
    "        x = self.conv3(x, edge_index)\n",
    "\n",
    "        # 2. Readout layer\n",
    "        x = self.pool(x, batch)  # [batch_size, hidden_channels]\n",
    "\n",
    "        # 3. Apply a final classifier\n",
    "        x = F.dropout(x, p=0.5, training=self.training)\n",
    "        x = self.lin(x)\n",
    "\n",
    "        return x\n",
    "    \n",
    "def train():\n",
    "    model.train()\n",
    "\n",
    "    for data in train_loader:  # Iterate in batches over the training dataset.\n",
    "         out = model(data.x, data.edge_index, data.batch)  # Perform a single forward pass.\n",
    "         loss = criterion(out, data.y)  # Compute the loss.\n",
    "         loss.backward()  # Derive gradients.\n",
    "         optimizer.step()  # Update parameters based on gradients.\n",
    "         optimizer.zero_grad()  # Clear gradients.\n",
    "\n",
    "def test(loader):\n",
    "     model.eval()\n",
    "\n",
    "     correct = 0\n",
    "     for data in loader:  # Iterate in batches over the training/test dataset.\n",
    "         out = model(data.x, data.edge_index, data.batch)\n",
    "         pred = out.argmax(dim=1)  # Use the class with highest probability.\n",
    "         correct += int((pred == data.y).sum())  # Check against ground-truth labels.\n",
    "     return correct / len(loader.dataset)  # Derive ratio of correct predictions."
   ]
  },
  {
   "cell_type": "markdown",
   "id": "5a86cc9d-0051-42fd-98c2-211c1c51b315",
   "metadata": {},
   "source": [
    "## Standard convolution, standard global mean"
   ]
  },
  {
   "cell_type": "code",
   "execution_count": 17,
   "id": "f3e23ba3-7a45-40f9-8b4e-008fa9a9f502",
   "metadata": {},
   "outputs": [
    {
     "name": "stdout",
     "output_type": "stream",
     "text": [
      "Epoch: 020, Train Acc: 0.6467, Test Acc: 0.7368\n",
      "Epoch: 040, Train Acc: 0.6800, Test Acc: 0.7632\n",
      "Epoch: 060, Train Acc: 0.7133, Test Acc: 0.7895\n",
      "Epoch: 080, Train Acc: 0.7667, Test Acc: 0.7895\n",
      "Epoch: 100, Train Acc: 0.7667, Test Acc: 0.7895\n",
      "Epoch: 120, Train Acc: 0.7733, Test Acc: 0.8421\n",
      "Epoch: 140, Train Acc: 0.7667, Test Acc: 0.7632\n",
      "Epoch: 160, Train Acc: 0.7733, Test Acc: 0.8158\n",
      "Epoch: 180, Train Acc: 0.7800, Test Acc: 0.7895\n",
      "Epoch: 200, Train Acc: 0.7733, Test Acc: 0.7632\n",
      "\n",
      "\n",
      "CI_train : [0.773,0.777]\n",
      "CI_test : [0.779,0.795]\n"
     ]
    }
   ],
   "source": [
    "model = GCN(Conv_method=GCNConv, Pool_method=global_mean_pool,  hidden_channels=64)\n",
    "optimizer = torch.optim.Adam(model.parameters(), lr=0.001)\n",
    "criterion = torch.nn.CrossEntropyLoss()\n",
    "\n",
    "nb_epoch = 201\n",
    "List_last_accuracy_train = []\n",
    "List_last_accuracy_test = []\n",
    "\n",
    "for epoch in range(1, nb_epoch):\n",
    "    train()\n",
    "    train_acc = test(train_loader)\n",
    "    test_acc = test(test_loader)\n",
    "    if epoch >= 0.9*nb_epoch:\n",
    "        List_last_accuracy_train.append(train_acc)\n",
    "        List_last_accuracy_test.append(test_acc)\n",
    "    if epoch % 20 ==0:\n",
    "        print(f'Epoch: {epoch:03d}, Train Acc: {train_acc:.4f}, Test Acc: {test_acc:.4f}')\n",
    "        \n",
    "CI_train = stats.norm.interval(0.95, loc=np.array(List_last_accuracy_train).mean(), \n",
    "                               scale=np.array(List_last_accuracy_train).std()/np.sqrt(len(List_last_accuracy_train)))\n",
    "CI_test = stats.norm.interval(0.95, loc=np.array(List_last_accuracy_test).mean(), \n",
    "                              scale=np.array(List_last_accuracy_test).std()/np.sqrt(len(List_last_accuracy_test)))\n",
    "\n",
    "print(\"\\n\")\n",
    "print(\"CI_train : [\" + str(round(CI_train[0],3)) + \",\" +  str(round(CI_train[1],3)) + \"]\")\n",
    "print(\"CI_test : [\" + str(round(CI_test[0],3)) + \",\" +  str(round(CI_test[1],3)) + \"]\")"
   ]
  },
  {
   "cell_type": "markdown",
   "id": "584b89d3-dc2c-4898-a13b-6a196a321411",
   "metadata": {},
   "source": [
    "## GAT convolution, standard global mean"
   ]
  },
  {
   "cell_type": "code",
   "execution_count": 19,
   "id": "28df584a-8513-434c-9774-2b1ce8ebb4ba",
   "metadata": {},
   "outputs": [
    {
     "name": "stdout",
     "output_type": "stream",
     "text": [
      "Epoch: 010, Train Acc: 0.6467, Test Acc: 0.7368\n",
      "Epoch: 020, Train Acc: 0.6467, Test Acc: 0.7368\n",
      "Epoch: 030, Train Acc: 0.7400, Test Acc: 0.7632\n",
      "Epoch: 040, Train Acc: 0.7467, Test Acc: 0.7895\n",
      "Epoch: 050, Train Acc: 0.7467, Test Acc: 0.7895\n",
      "Epoch: 060, Train Acc: 0.7667, Test Acc: 0.7895\n",
      "Epoch: 070, Train Acc: 0.7733, Test Acc: 0.7895\n",
      "Epoch: 080, Train Acc: 0.7733, Test Acc: 0.8421\n",
      "Epoch: 090, Train Acc: 0.7733, Test Acc: 0.8421\n",
      "Epoch: 100, Train Acc: 0.7733, Test Acc: 0.8158\n",
      "Epoch: 110, Train Acc: 0.7800, Test Acc: 0.8158\n",
      "Epoch: 120, Train Acc: 0.7733, Test Acc: 0.7895\n",
      "Epoch: 130, Train Acc: 0.7800, Test Acc: 0.7632\n",
      "Epoch: 140, Train Acc: 0.7933, Test Acc: 0.8421\n",
      "Epoch: 150, Train Acc: 0.7867, Test Acc: 0.8421\n",
      "Epoch: 160, Train Acc: 0.7933, Test Acc: 0.7895\n",
      "Epoch: 170, Train Acc: 0.8000, Test Acc: 0.8421\n",
      "Epoch: 180, Train Acc: 0.8000, Test Acc: 0.7632\n",
      "Epoch: 190, Train Acc: 0.8067, Test Acc: 0.7895\n",
      "Epoch: 200, Train Acc: 0.8200, Test Acc: 0.7632\n",
      "\n",
      "\n",
      "CI_train : [0.807,0.811]\n",
      "CI_test : [0.782,0.8]\n"
     ]
    }
   ],
   "source": [
    "model = GCN(Conv_method=GATConv, Pool_method=global_mean_pool, hidden_channels=64)\n",
    "optimizer = torch.optim.Adam(model.parameters(), lr=0.001)\n",
    "criterion = torch.nn.CrossEntropyLoss()\n",
    "\n",
    "List_last_accuracy_train = []\n",
    "List_last_accuracy_test = []\n",
    "\n",
    "for epoch in range(1, nb_epoch):\n",
    "    train()\n",
    "    train_acc = test(train_loader)\n",
    "    test_acc = test(test_loader)\n",
    "    if epoch >= 0.9*nb_epoch:\n",
    "        List_last_accuracy_train.append(train_acc)\n",
    "        List_last_accuracy_test.append(test_acc)\n",
    "    if epoch % 10 ==0:\n",
    "        print(f'Epoch: {epoch:03d}, Train Acc: {train_acc:.4f}, Test Acc: {test_acc:.4f}')\n",
    "        \n",
    "CI_train = stats.norm.interval(0.95, loc=np.array(List_last_accuracy_train).mean(), \n",
    "                               scale=np.array(List_last_accuracy_train).std()/np.sqrt(len(List_last_accuracy_train)))\n",
    "CI_test = stats.norm.interval(0.95, loc=np.array(List_last_accuracy_test).mean(), \n",
    "                              scale=np.array(List_last_accuracy_test).std()/np.sqrt(len(List_last_accuracy_test)))\n",
    "\n",
    "print(\"\\n\")\n",
    "print(\"CI_train : [\" + str(round(CI_train[0],3)) + \",\" +  str(round(CI_train[1],3)) + \"]\")\n",
    "print(\"CI_test : [\" + str(round(CI_test[0],3)) + \",\" +  str(round(CI_test[1],3)) + \"]\")"
   ]
  },
  {
   "cell_type": "markdown",
   "id": "6379e1ae-999d-4460-bf05-7e7542accb3b",
   "metadata": {},
   "source": [
    "## GatedGraphConv convolution, standard global mean"
   ]
  },
  {
   "cell_type": "code",
   "execution_count": 23,
   "id": "e1b351ef-0b1a-4028-993d-2ca63ecf70fd",
   "metadata": {},
   "outputs": [
    {
     "name": "stdout",
     "output_type": "stream",
     "text": [
      "Epoch: 010, Train Acc: 0.6467, Test Acc: 0.7368\n",
      "Epoch: 020, Train Acc: 0.6133, Test Acc: 0.5263\n",
      "Epoch: 030, Train Acc: 0.8400, Test Acc: 0.8158\n",
      "Epoch: 040, Train Acc: 0.8333, Test Acc: 0.8158\n",
      "Epoch: 050, Train Acc: 0.8600, Test Acc: 0.8158\n",
      "Epoch: 060, Train Acc: 0.8400, Test Acc: 0.7895\n",
      "Epoch: 070, Train Acc: 0.7867, Test Acc: 0.7632\n",
      "Epoch: 080, Train Acc: 0.8533, Test Acc: 0.8158\n",
      "Epoch: 090, Train Acc: 0.8333, Test Acc: 0.8158\n",
      "Epoch: 100, Train Acc: 0.8200, Test Acc: 0.7632\n",
      "Epoch: 110, Train Acc: 0.8333, Test Acc: 0.8158\n",
      "Epoch: 120, Train Acc: 0.7133, Test Acc: 0.6053\n",
      "Epoch: 130, Train Acc: 0.8467, Test Acc: 0.7895\n",
      "Epoch: 140, Train Acc: 0.8667, Test Acc: 0.8158\n",
      "Epoch: 150, Train Acc: 0.8467, Test Acc: 0.8158\n",
      "Epoch: 160, Train Acc: 0.8400, Test Acc: 0.8158\n",
      "Epoch: 170, Train Acc: 0.7400, Test Acc: 0.7632\n",
      "Epoch: 180, Train Acc: 0.8333, Test Acc: 0.8158\n",
      "Epoch: 190, Train Acc: 0.8133, Test Acc: 0.7632\n",
      "Epoch: 200, Train Acc: 0.8667, Test Acc: 0.8158\n",
      "\n",
      "\n",
      "CI_train : [0.826,0.848]\n",
      "CI_test : [0.79,0.81]\n"
     ]
    }
   ],
   "source": [
    "model = GCN(Conv_method=GatedGraphConv, Pool_method=global_mean_pool, hidden_channels=64)\n",
    "optimizer = torch.optim.Adam(model.parameters(), lr=0.001)\n",
    "criterion = torch.nn.CrossEntropyLoss()\n",
    "\n",
    "List_last_accuracy_train = []\n",
    "List_last_accuracy_test = []\n",
    "\n",
    "for epoch in range(1, nb_epoch):\n",
    "    train()\n",
    "    train_acc = test(train_loader)\n",
    "    test_acc = test(test_loader)\n",
    "    if epoch >= 0.9*nb_epoch:\n",
    "        List_last_accuracy_train.append(train_acc)\n",
    "        List_last_accuracy_test.append(test_acc)\n",
    "    if epoch % 10 ==0:\n",
    "        print(f'Epoch: {epoch:03d}, Train Acc: {train_acc:.4f}, Test Acc: {test_acc:.4f}')\n",
    "        \n",
    "CI_train = stats.norm.interval(0.95, loc=np.array(List_last_accuracy_train).mean(), \n",
    "                               scale=np.array(List_last_accuracy_train).std()/np.sqrt(len(List_last_accuracy_train)))\n",
    "CI_test = stats.norm.interval(0.95, loc=np.array(List_last_accuracy_test).mean(), \n",
    "                              scale=np.array(List_last_accuracy_test).std()/np.sqrt(len(List_last_accuracy_test)))\n",
    "\n",
    "print(\"\\n\")\n",
    "print(\"CI_train : [\" + str(round(CI_train[0],3)) + \",\" +  str(round(CI_train[1],3)) + \"]\")\n",
    "print(\"CI_test : [\" + str(round(CI_test[0],3)) + \",\" +  str(round(CI_test[1],3)) + \"]\")"
   ]
  },
  {
   "cell_type": "markdown",
   "id": "5a281260-f26d-4aec-a503-fe13d6767d73",
   "metadata": {},
   "source": [
    "## Standard convolution, max pooling"
   ]
  },
  {
   "cell_type": "code",
   "execution_count": 20,
   "id": "972aca02-c35f-434f-b5cd-67648e901734",
   "metadata": {},
   "outputs": [
    {
     "name": "stdout",
     "output_type": "stream",
     "text": [
      "Epoch: 020, Train Acc: 0.6467, Test Acc: 0.7368\n",
      "Epoch: 040, Train Acc: 0.7800, Test Acc: 0.7368\n",
      "Epoch: 060, Train Acc: 0.7867, Test Acc: 0.7368\n",
      "Epoch: 080, Train Acc: 0.7933, Test Acc: 0.7632\n",
      "Epoch: 100, Train Acc: 0.8000, Test Acc: 0.7105\n",
      "Epoch: 120, Train Acc: 0.7933, Test Acc: 0.7105\n",
      "Epoch: 140, Train Acc: 0.7867, Test Acc: 0.7632\n",
      "Epoch: 160, Train Acc: 0.7867, Test Acc: 0.7368\n",
      "Epoch: 180, Train Acc: 0.8000, Test Acc: 0.7632\n",
      "Epoch: 200, Train Acc: 0.8067, Test Acc: 0.7105\n",
      "\n",
      "\n",
      "CI_train : [0.788,0.798]\n",
      "CI_test : [0.712,0.727]\n"
     ]
    }
   ],
   "source": [
    "model = GCN(Conv_method=GCNConv, Pool_method=global_max_pool,  hidden_channels=64)\n",
    "optimizer = torch.optim.Adam(model.parameters(), lr=0.001)\n",
    "criterion = torch.nn.CrossEntropyLoss()\n",
    "\n",
    "List_last_accuracy_train = []\n",
    "List_last_accuracy_test = []\n",
    "\n",
    "for epoch in range(1, nb_epoch):\n",
    "    train()\n",
    "    train_acc = test(train_loader)\n",
    "    test_acc = test(test_loader)\n",
    "    if epoch >= 0.9*nb_epoch:\n",
    "        List_last_accuracy_train.append(train_acc)\n",
    "        List_last_accuracy_test.append(test_acc)\n",
    "    if epoch % 20 ==0:\n",
    "        print(f'Epoch: {epoch:03d}, Train Acc: {train_acc:.4f}, Test Acc: {test_acc:.4f}')\n",
    "        \n",
    "CI_train = stats.norm.interval(0.95, loc=np.array(List_last_accuracy_train).mean(), \n",
    "                               scale=np.array(List_last_accuracy_train).std()/np.sqrt(len(List_last_accuracy_train)))\n",
    "CI_test = stats.norm.interval(0.95, loc=np.array(List_last_accuracy_test).mean(), \n",
    "                              scale=np.array(List_last_accuracy_test).std()/np.sqrt(len(List_last_accuracy_test)))\n",
    "\n",
    "print(\"\\n\")\n",
    "print(\"CI_train : [\" + str(round(CI_train[0],3)) + \",\" +  str(round(CI_train[1],3)) + \"]\")\n",
    "print(\"CI_test : [\" + str(round(CI_test[0],3)) + \",\" +  str(round(CI_test[1],3)) + \"]\")"
   ]
  },
  {
   "cell_type": "markdown",
   "id": "67de6c10-844f-45d6-be5b-8de7eab3205c",
   "metadata": {},
   "source": [
    "## GAT convolution, max pooling"
   ]
  },
  {
   "cell_type": "code",
   "execution_count": 21,
   "id": "f523ce96-31c5-4657-a215-01988d780683",
   "metadata": {},
   "outputs": [
    {
     "name": "stdout",
     "output_type": "stream",
     "text": [
      "Epoch: 010, Train Acc: 0.6467, Test Acc: 0.7368\n",
      "Epoch: 020, Train Acc: 0.6467, Test Acc: 0.7368\n",
      "Epoch: 030, Train Acc: 0.7267, Test Acc: 0.7895\n",
      "Epoch: 040, Train Acc: 0.7733, Test Acc: 0.7632\n",
      "Epoch: 050, Train Acc: 0.7867, Test Acc: 0.7632\n",
      "Epoch: 060, Train Acc: 0.8067, Test Acc: 0.7368\n",
      "Epoch: 070, Train Acc: 0.8000, Test Acc: 0.7632\n",
      "Epoch: 080, Train Acc: 0.8067, Test Acc: 0.7632\n",
      "Epoch: 090, Train Acc: 0.8200, Test Acc: 0.7368\n",
      "Epoch: 100, Train Acc: 0.8067, Test Acc: 0.7368\n",
      "Epoch: 110, Train Acc: 0.7933, Test Acc: 0.7368\n",
      "Epoch: 120, Train Acc: 0.8200, Test Acc: 0.7105\n",
      "Epoch: 130, Train Acc: 0.8067, Test Acc: 0.7368\n",
      "Epoch: 140, Train Acc: 0.8067, Test Acc: 0.7895\n",
      "Epoch: 150, Train Acc: 0.8133, Test Acc: 0.7368\n",
      "Epoch: 160, Train Acc: 0.8133, Test Acc: 0.7368\n",
      "Epoch: 170, Train Acc: 0.8067, Test Acc: 0.7368\n",
      "Epoch: 180, Train Acc: 0.8067, Test Acc: 0.7368\n",
      "Epoch: 190, Train Acc: 0.8133, Test Acc: 0.7368\n",
      "Epoch: 200, Train Acc: 0.8067, Test Acc: 0.7368\n",
      "\n",
      "\n",
      "CI_train : [0.809,0.813]\n",
      "CI_test : [0.731,0.738]\n"
     ]
    }
   ],
   "source": [
    "model = GCN(Conv_method=GATConv, Pool_method=global_max_pool, hidden_channels=64)\n",
    "optimizer = torch.optim.Adam(model.parameters(), lr=0.001)\n",
    "criterion = torch.nn.CrossEntropyLoss()\n",
    "\n",
    "List_last_accuracy_train = []\n",
    "List_last_accuracy_test = []\n",
    "\n",
    "for epoch in range(1, nb_epoch):\n",
    "    train()\n",
    "    train_acc = test(train_loader)\n",
    "    test_acc = test(test_loader)\n",
    "    if epoch >= 0.9*nb_epoch:\n",
    "        List_last_accuracy_train.append(train_acc)\n",
    "        List_last_accuracy_test.append(test_acc)\n",
    "    if epoch % 10 ==0:\n",
    "        print(f'Epoch: {epoch:03d}, Train Acc: {train_acc:.4f}, Test Acc: {test_acc:.4f}')\n",
    "        \n",
    "CI_train = stats.norm.interval(0.95, loc=np.array(List_last_accuracy_train).mean(), \n",
    "                               scale=np.array(List_last_accuracy_train).std()/np.sqrt(len(List_last_accuracy_train)))\n",
    "CI_test = stats.norm.interval(0.95, loc=np.array(List_last_accuracy_test).mean(), \n",
    "                              scale=np.array(List_last_accuracy_test).std()/np.sqrt(len(List_last_accuracy_test)))\n",
    "\n",
    "print(\"\\n\")\n",
    "print(\"CI_train : [\" + str(round(CI_train[0],3)) + \",\" +  str(round(CI_train[1],3)) + \"]\")\n",
    "print(\"CI_test : [\" + str(round(CI_test[0],3)) + \",\" +  str(round(CI_test[1],3)) + \"]\")"
   ]
  },
  {
   "cell_type": "markdown",
   "id": "9a0b8ef2-263c-4d12-b4f3-86fdf1faba2e",
   "metadata": {},
   "source": [
    "## GatedGraphConv convolution, max pooling"
   ]
  },
  {
   "cell_type": "code",
   "execution_count": 24,
   "id": "de12c47a-873c-4007-8b80-54b5775a996c",
   "metadata": {},
   "outputs": [
    {
     "name": "stdout",
     "output_type": "stream",
     "text": [
      "Epoch: 010, Train Acc: 0.6467, Test Acc: 0.7368\n",
      "Epoch: 020, Train Acc: 0.8667, Test Acc: 0.8158\n",
      "Epoch: 030, Train Acc: 0.8667, Test Acc: 0.8158\n",
      "Epoch: 040, Train Acc: 0.8667, Test Acc: 0.8158\n",
      "Epoch: 050, Train Acc: 0.8067, Test Acc: 0.7632\n",
      "Epoch: 060, Train Acc: 0.8467, Test Acc: 0.8158\n",
      "Epoch: 070, Train Acc: 0.8000, Test Acc: 0.7632\n",
      "Epoch: 080, Train Acc: 0.8267, Test Acc: 0.8158\n",
      "Epoch: 090, Train Acc: 0.8400, Test Acc: 0.8158\n",
      "Epoch: 100, Train Acc: 0.8333, Test Acc: 0.8158\n",
      "Epoch: 110, Train Acc: 0.8733, Test Acc: 0.8158\n",
      "Epoch: 120, Train Acc: 0.6867, Test Acc: 0.5789\n",
      "Epoch: 130, Train Acc: 0.8533, Test Acc: 0.8158\n",
      "Epoch: 140, Train Acc: 0.8600, Test Acc: 0.7895\n",
      "Epoch: 150, Train Acc: 0.8600, Test Acc: 0.8158\n",
      "Epoch: 160, Train Acc: 0.8667, Test Acc: 0.8158\n",
      "Epoch: 170, Train Acc: 0.8467, Test Acc: 0.8158\n",
      "Epoch: 180, Train Acc: 0.8400, Test Acc: 0.8158\n",
      "Epoch: 190, Train Acc: 0.8400, Test Acc: 0.8158\n",
      "Epoch: 200, Train Acc: 0.8733, Test Acc: 0.8158\n",
      "\n",
      "\n",
      "CI_train : [0.842,0.862]\n",
      "CI_test : [0.815,0.82]\n"
     ]
    }
   ],
   "source": [
    "model = GCN(Conv_method=GatedGraphConv, Pool_method=global_max_pool, hidden_channels=64)\n",
    "optimizer = torch.optim.Adam(model.parameters(), lr=0.001)\n",
    "criterion = torch.nn.CrossEntropyLoss()\n",
    "\n",
    "List_last_accuracy_train = []\n",
    "List_last_accuracy_test = []\n",
    "\n",
    "for epoch in range(1, nb_epoch):\n",
    "    train()\n",
    "    train_acc = test(train_loader)\n",
    "    test_acc = test(test_loader)\n",
    "    if epoch >= 0.9*nb_epoch:\n",
    "        List_last_accuracy_train.append(train_acc)\n",
    "        List_last_accuracy_test.append(test_acc)\n",
    "    if epoch % 10 ==0:\n",
    "        print(f'Epoch: {epoch:03d}, Train Acc: {train_acc:.4f}, Test Acc: {test_acc:.4f}')\n",
    "        \n",
    "CI_train = stats.norm.interval(0.95, loc=np.array(List_last_accuracy_train).mean(), \n",
    "                               scale=np.array(List_last_accuracy_train).std()/np.sqrt(len(List_last_accuracy_train)))\n",
    "CI_test = stats.norm.interval(0.95, loc=np.array(List_last_accuracy_test).mean(), \n",
    "                              scale=np.array(List_last_accuracy_test).std()/np.sqrt(len(List_last_accuracy_test)))\n",
    "\n",
    "print(\"\\n\")\n",
    "print(\"CI_train : [\" + str(round(CI_train[0],3)) + \",\" +  str(round(CI_train[1],3)) + \"]\")\n",
    "print(\"CI_test : [\" + str(round(CI_test[0],3)) + \",\" +  str(round(CI_test[1],3)) + \"]\")"
   ]
  }
 ],
 "metadata": {
  "kernelspec": {
   "display_name": "Python 3 (ipykernel)",
   "language": "python",
   "name": "python3"
  },
  "language_info": {
   "codemirror_mode": {
    "name": "ipython",
    "version": 3
   },
   "file_extension": ".py",
   "mimetype": "text/x-python",
   "name": "python",
   "nbconvert_exporter": "python",
   "pygments_lexer": "ipython3",
   "version": "3.9.7"
  }
 },
 "nbformat": 4,
 "nbformat_minor": 5
}
