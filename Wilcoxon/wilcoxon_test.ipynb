{
 "cells": [
  {
   "cell_type": "code",
   "execution_count": 1,
   "metadata": {},
   "outputs": [],
   "source": [
    "import json\n",
    "from glob import glob\n",
    "import numpy as np\n",
    "import pandas as pd"
   ]
  },
  {
   "cell_type": "markdown",
   "metadata": {},
   "source": [
    "## Load result files"
   ]
  },
  {
   "cell_type": "code",
   "execution_count": 2,
   "metadata": {},
   "outputs": [],
   "source": [
    "result_files = glob('../model/results/*.json')"
   ]
  },
  {
   "cell_type": "code",
   "execution_count": 3,
   "metadata": {},
   "outputs": [],
   "source": [
    "dicts = {}\n",
    "\n",
    "for file_ in result_files:\n",
    "    with open(file_, 'r') as f:\n",
    "        d = json.load(f)\n",
    "    dataset = d['dataset']\n",
    "    if dicts.get(dataset) is None:\n",
    "        dicts[dataset] = [d]\n",
    "    else:\n",
    "        dicts[dataset].append(d)"
   ]
  },
  {
   "cell_type": "code",
   "execution_count": 4,
   "metadata": {},
   "outputs": [],
   "source": [
    "dicts_difference = {}\n",
    "for dataset in dicts.keys():\n",
    "    dicts_difference[dataset] = dict()\n",
    "\n",
    "for dataset in dicts.keys():\n",
    "    architecture_files = dicts[dataset]\n",
    "    for architecture_file in architecture_files:\n",
    "        architecture = f\"{architecture_file['convolution_layer']}_{architecture_file['local_pooling_layer']}\"\n",
    "        if dicts_difference[dataset].get(architecture) is None:\n",
    "            dicts_difference[dataset][architecture] = 0\n",
    "            \n",
    "        if architecture_file['global_pooling_layer'] == 'max':\n",
    "            dicts_difference[dataset][architecture] += architecture_file['mean_accuracy']\n",
    "        else:\n",
    "            dicts_difference[dataset][architecture] -= architecture_file['mean_accuracy']"
   ]
  },
  {
   "cell_type": "markdown",
   "metadata": {},
   "source": [
    "## Wilcoxon test"
   ]
  },
  {
   "cell_type": "code",
   "execution_count": 5,
   "metadata": {},
   "outputs": [],
   "source": [
    "from scipy.stats import wilcoxon\n",
    "import warnings\n",
    "warnings.filterwarnings(\"ignore\")"
   ]
  },
  {
   "cell_type": "code",
   "execution_count": 18,
   "metadata": {},
   "outputs": [],
   "source": [
    "df_wilcoxon = pd.DataFrame()\n",
    "df_wilcoxon.index = list(dicts_difference.keys())\n",
    "df_wilcoxon['p-value'] = [0]*len(df_wilcoxon)\n",
    "df_wilcoxon['mean_diff'] = [0]*len(df_wilcoxon)"
   ]
  },
  {
   "cell_type": "code",
   "execution_count": 19,
   "metadata": {},
   "outputs": [
    {
     "name": "stdout",
     "output_type": "stream",
     "text": [
      "MUTAG: mean_difference = -0.0084\n",
      "Wilcoxon test statistic = 34.5, p-value = 0.2583\n",
      "Can't reject null hyp. -> samples come from the same distribution\n",
      "\n",
      "PROTEINS: mean_difference = 0.0090\n",
      "Wilcoxon test statistic = 42.0, p-value = 0.3303\n",
      "Can't reject null hyp. -> samples come from the same distribution\n",
      "\n",
      "ENZYMES: mean_difference = -0.0104\n",
      "Wilcoxon test statistic = 37.0, p-value = 0.2078\n",
      "Can't reject null hyp. -> samples come from the same distribution\n",
      "\n",
      "NCI1: mean_difference = 0.6687\n",
      "Wilcoxon test statistic = 0.0, p-value = 0.0001\n",
      "Null hyp. rejected -> samples come from different distribution\n",
      "\n"
     ]
    }
   ],
   "source": [
    "for dataset in dicts_difference.keys():\n",
    "    list_differences = list(dicts_difference[dataset].values())\n",
    "    mean_difference = np.mean(list_differences)\n",
    "    res = wilcoxon(list_differences)\n",
    "    print(f\"{dataset}: mean_difference = {mean_difference:.4f}\")\n",
    "    print(f\"Wilcoxon test statistic = {res.statistic}, p-value = {res.pvalue:.4f}\")\n",
    "    if res.pvalue > 0.05:\n",
    "        print(\"Can't reject null hyp. -> samples come from the same distribution\")\n",
    "    else:\n",
    "        print(\"Null hyp. rejected -> samples come from different distribution\")\n",
    "    print()\n",
    "    df_wilcoxon.loc[dataset, 'p-value'] = res.pvalue\n",
    "    df_wilcoxon.loc[dataset, 'mean_diff'] = mean_difference"
   ]
  },
  {
   "cell_type": "code",
   "execution_count": 23,
   "metadata": {},
   "outputs": [
    {
     "name": "stdout",
     "output_type": "stream",
     "text": [
      "MUTAG: best architecture = GINConv_EDGE_max -> 0.847\n",
      "PROTEINS: best architecture = GCN_EDGE_max -> 0.753\n",
      "ENZYMES: best architecture = GINConv_EDGE_mean -> 0.379\n",
      "NCI1: best architecture = GINConv_MEWIS_max -> 0.744\n"
     ]
    }
   ],
   "source": [
    "for dataset in dicts.keys():\n",
    "    best_acc = 0 \n",
    "    best_architecture = ''\n",
    "    for d in dicts[dataset]:\n",
    "        acc = d['mean_accuracy']\n",
    "        if acc >= best_acc:\n",
    "            best_acc = acc\n",
    "            best_architecture = f\"{d['convolution_layer']}_{d['local_pooling_layer']}_{d['global_pooling_layer']}\"\n",
    "    print(f\"{dataset}: best architecture = {best_architecture} -> {best_acc:.3f}\")\n",
    "    df_wilcoxon.loc[dataset, 'best_arch'] = best_architecture"
   ]
  },
  {
   "cell_type": "code",
   "execution_count": 26,
   "metadata": {},
   "outputs": [
    {
     "data": {
      "text/html": [
       "<div>\n",
       "<style scoped>\n",
       "    .dataframe tbody tr th:only-of-type {\n",
       "        vertical-align: middle;\n",
       "    }\n",
       "\n",
       "    .dataframe tbody tr th {\n",
       "        vertical-align: top;\n",
       "    }\n",
       "\n",
       "    .dataframe thead th {\n",
       "        text-align: right;\n",
       "    }\n",
       "</style>\n",
       "<table border=\"1\" class=\"dataframe\">\n",
       "  <thead>\n",
       "    <tr style=\"text-align: right;\">\n",
       "      <th></th>\n",
       "      <th>p-value</th>\n",
       "      <th>mean_diff</th>\n",
       "      <th>best_arch</th>\n",
       "    </tr>\n",
       "  </thead>\n",
       "  <tbody>\n",
       "    <tr>\n",
       "      <th>MUTAG</th>\n",
       "      <td>0.258251</td>\n",
       "      <td>-0.008421</td>\n",
       "      <td>GINConv_EDGE_max</td>\n",
       "    </tr>\n",
       "    <tr>\n",
       "      <th>PROTEINS</th>\n",
       "      <td>0.330261</td>\n",
       "      <td>0.008999</td>\n",
       "      <td>GCN_EDGE_max</td>\n",
       "    </tr>\n",
       "    <tr>\n",
       "      <th>ENZYMES</th>\n",
       "      <td>0.207764</td>\n",
       "      <td>-0.010444</td>\n",
       "      <td>GINConv_EDGE_mean</td>\n",
       "    </tr>\n",
       "    <tr>\n",
       "      <th>NCI1</th>\n",
       "      <td>0.000061</td>\n",
       "      <td>0.668674</td>\n",
       "      <td>GINConv_MEWIS_max</td>\n",
       "    </tr>\n",
       "  </tbody>\n",
       "</table>\n",
       "</div>"
      ],
      "text/plain": [
       "           p-value  mean_diff          best_arch\n",
       "MUTAG     0.258251  -0.008421   GINConv_EDGE_max\n",
       "PROTEINS  0.330261   0.008999       GCN_EDGE_max\n",
       "ENZYMES   0.207764  -0.010444  GINConv_EDGE_mean\n",
       "NCI1      0.000061   0.668674  GINConv_MEWIS_max"
      ]
     },
     "execution_count": 26,
     "metadata": {},
     "output_type": "execute_result"
    }
   ],
   "source": [
    "df_wilcoxon"
   ]
  }
 ],
 "metadata": {
  "kernelspec": {
   "display_name": "base",
   "language": "python",
   "name": "python3"
  },
  "language_info": {
   "codemirror_mode": {
    "name": "ipython",
    "version": 3
   },
   "file_extension": ".py",
   "mimetype": "text/x-python",
   "name": "python",
   "nbconvert_exporter": "python",
   "pygments_lexer": "ipython3",
   "version": "3.11.6"
  }
 },
 "nbformat": 4,
 "nbformat_minor": 2
}
